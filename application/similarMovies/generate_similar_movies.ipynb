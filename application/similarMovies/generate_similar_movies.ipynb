{
 "cells": [
  {
   "cell_type": "code",
   "execution_count": 25,
   "metadata": {},
   "outputs": [],
   "source": [
    "import numpy as np\n",
    "import re\n",
    "import json\n",
    "from utils.preprocess import preprocess\n",
    "from similarity.tfidf import TFIDFCalculator\n",
    "from similarity.gensim import GensimCalculator\n",
    "from similarity.bert import BERTCalculator"
   ]
  },
  {
   "cell_type": "code",
   "execution_count": 2,
   "metadata": {},
   "outputs": [],
   "source": [
    "# Load JSON File\n",
    "with open(\"../../data/movies_metadata.json\") as data_file:\n",
    "    movie_data_str = data_file.read()\n",
    "\n",
    "movie_data = json.loads(movie_data_str)\n"
   ]
  },
  {
   "cell_type": "code",
   "execution_count": 3,
   "metadata": {},
   "outputs": [],
   "source": [
    "# Configuration\n",
    "topK_movie = 5\n"
   ]
  },
  {
   "cell_type": "code",
   "execution_count": 4,
   "metadata": {},
   "outputs": [],
   "source": [
    "# Create Movie ID\n",
    "movie_id_list = list(movie_data)\n"
   ]
  },
  {
   "cell_type": "code",
   "execution_count": 5,
   "metadata": {},
   "outputs": [],
   "source": [
    "# Building Vocabulary\n",
    "preprocessed_corpus = []\n",
    "for m_id in movie_id_list:\n",
    "    # Put Movie Title and Plot as the summary of the movie\n",
    "    movie_name = movie_data[m_id][\"localized_title\"]\n",
    "    summary = movie_data[m_id][\"summary\"].split(\"\\nPlot: \")\n",
    "    summary = summary[1] if len(summary) > 1 else \"\"\n",
    "\n",
    "    preprocessed_corpus.append(\n",
    "        preprocess(movie_name, is_sw_remove=False) + preprocess(summary)\n",
    "    )\n",
    "\n",
    "preprocessed_corpus_join = []\n",
    "for pc in preprocessed_corpus:\n",
    "    preprocessed_corpus_join.append(' '.join(pc))\n",
    "\n",
    "\n",
    "preprocessed_corpus_nosw = []\n",
    "for m_id in movie_id_list:\n",
    "    # Put Movie Title and Plot as the summary of the movie\n",
    "    movie_name = movie_data[m_id][\"localized_title\"]\n",
    "    summary = movie_data[m_id][\"summary\"].split(\"\\nPlot: \")\n",
    "    summary = summary[1] if len(summary) > 1 else \"\"\n",
    "\n",
    "    preprocessed_corpus_nosw.append(\n",
    "        preprocess(movie_name, is_sw_remove=False) +\n",
    "        preprocess(summary, is_sw_remove=False)\n",
    "    )\n",
    "\n",
    "preprocessed_corpus_join_nosw = []\n",
    "for pc in preprocessed_corpus_nosw:\n",
    "    preprocessed_corpus_join_nosw.append(' '.join(pc))\n",
    "\n",
    "\n",
    "raw_corpus = []\n",
    "for m_id in movie_id_list:\n",
    "    # Put Movie Title and Plot as the summary of the movie\n",
    "    movie_name = movie_data[m_id][\"localized_title\"]\n",
    "    summary = movie_data[m_id][\"summary\"].split(\"\\nPlot: \")\n",
    "    summary = summary[1] if len(summary) > 1 else \"\"\n",
    "\n",
    "    raw_corpus.append(\n",
    "        re.sub(r\"[^a-zA-Z0-9 ]\", \"\", movie_name).lower().split(\" \") +\n",
    "        re.sub(r\"[^a-zA-Z0-9 ]\", \"\", summary).lower().split(\" \")\n",
    "    )\n",
    "\n",
    "raw_corpus_join = []\n",
    "for pc in raw_corpus:\n",
    "    raw_corpus_join.append(' '.join(pc))\n"
   ]
  },
  {
   "cell_type": "code",
   "execution_count": 21,
   "metadata": {},
   "outputs": [],
   "source": [
    "def generateSimilarMoviesJSON(result_json, method_name):\n",
    "    output_json = {}\n",
    "    for movie_id, similarMovies in result_json.items():\n",
    "        output_json[movie_id] = {}\n",
    "        targetMovie = output_json[movie_id]\n",
    "        targetMovie[\"similar_movie_ids\"] = similarMovies\n",
    "        targetMovie[\"cover_urls\"] = []\n",
    "        targetMovie[\"movies_name\"] = []\n",
    "\n",
    "        for similar_movie_id in similarMovies:\n",
    "            targetMovie[\"cover_urls\"].append(\n",
    "                movie_data[similar_movie_id][\"cover_url\"]\n",
    "            )\n",
    "            targetMovie[\"movies_name\"].append(\n",
    "                movie_data[similar_movie_id][\"localized_title\"]\n",
    "            )\n",
    "        \n",
    "    with open(f\"../../data/similarMovies_{method_name}.json\", \"w\") as outfile:\n",
    "        json.dump(output_json, outfile)\n",
    "\n",
    "    return output_json\n"
   ]
  },
  {
   "cell_type": "code",
   "execution_count": 23,
   "metadata": {},
   "outputs": [],
   "source": [
    "tfidf_calculator = TFIDFCalculator(preprocessed_corpus_join_nosw)\n",
    "tfidf_calculator.buildSimilarityMatrix()\n",
    "\n",
    "# Calculate Similar Movie Result\n",
    "similar_movies_result_tfidf = {}\n",
    "for i in range(len(preprocessed_corpus_join_nosw)):\n",
    "    similar_movies = (\n",
    "        -tfidf_calculator.sim_matrix[i]\n",
    "    ).argsort()[:topK_movie + 1]\n",
    "    similar_movies = [\n",
    "        movie_id_list[j] for j in similar_movies if j != i\n",
    "    ][:topK_movie]\n",
    "\n",
    "    assert movie_id_list[i] not in similar_movies, \"Movie ID in Similar Movies List\"\n",
    "\n",
    "    similar_movies_result_tfidf[movie_id_list[i]] = similar_movies\n"
   ]
  },
  {
   "cell_type": "code",
   "execution_count": 24,
   "metadata": {},
   "outputs": [],
   "source": [
    "_ = generateSimilarMoviesJSON(similar_movies_result_tfidf, \"tfidf\")"
   ]
  },
  {
   "cell_type": "code",
   "execution_count": 28,
   "metadata": {},
   "outputs": [],
   "source": [
    "gensim_calculator = GensimCalculator(raw_corpus, \"word2vec-google-news-300\")\n",
    "gensim_calculator.buildSimilarityMatrix()\n",
    "\n",
    "# Calculate Similar Movie Result\n",
    "similar_movies_result_gensim = {}\n",
    "for i in range(len(preprocessed_corpus_join_nosw)):\n",
    "    similar_movies = (\n",
    "        -gensim_calculator.sim_matrix[i]\n",
    "    ).argsort()[:topK_movie + 1]\n",
    "    similar_movies = [\n",
    "        movie_id_list[j] for j in similar_movies if j != i\n",
    "    ][:topK_movie]\n",
    "\n",
    "    assert movie_id_list[i] not in similar_movies, \"Movie ID in Similar Movies List\"\n",
    "\n",
    "    similar_movies_result_gensim[movie_id_list[i]] = similar_movies\n"
   ]
  },
  {
   "cell_type": "code",
   "execution_count": 29,
   "metadata": {},
   "outputs": [],
   "source": [
    "_ = generateSimilarMoviesJSON(similar_movies_result_gensim, \"gensim\")"
   ]
  },
  {
   "cell_type": "code",
   "execution_count": 26,
   "metadata": {},
   "outputs": [],
   "source": [
    "bert_calculator = BERTCalculator(raw_corpus_join)\n",
    "bert_calculator.buildSimilarityMatrix()\n",
    "\n",
    "# Calculate Similar Movie Result\n",
    "similar_movies_result_bert = {}\n",
    "for i in range(len(raw_corpus_join)):\n",
    "    similar_movies = (\n",
    "        -bert_calculator.sim_matrix[i]\n",
    "    ).argsort()[:topK_movie + 1]\n",
    "    similar_movies = [\n",
    "        movie_id_list[j] for j in similar_movies if j != i\n",
    "    ][:topK_movie]\n",
    "\n",
    "    assert movie_id_list[i] not in similar_movies, \"Movie ID in Similar Movies List\"\n",
    "\n",
    "    similar_movies_result_bert[movie_id_list[i]] = similar_movies\n"
   ]
  },
  {
   "cell_type": "code",
   "execution_count": 27,
   "metadata": {},
   "outputs": [],
   "source": [
    "_ = generateSimilarMoviesJSON(similar_movies_result_bert, \"bert\")"
   ]
  },
  {
   "cell_type": "code",
   "execution_count": null,
   "metadata": {},
   "outputs": [],
   "source": []
  }
 ],
 "metadata": {
  "kernelspec": {
   "display_name": "Python 3.8.5 ('base')",
   "language": "python",
   "name": "python3"
  },
  "language_info": {
   "codemirror_mode": {
    "name": "ipython",
    "version": 3
   },
   "file_extension": ".py",
   "mimetype": "text/x-python",
   "name": "python",
   "nbconvert_exporter": "python",
   "pygments_lexer": "ipython3",
   "version": "3.8.5"
  },
  "orig_nbformat": 4,
  "vscode": {
   "interpreter": {
    "hash": "b8c0bb826b0a6d814e23aa5e5c30ff79c87019379740d931cfcd76fca69e3581"
   }
  }
 },
 "nbformat": 4,
 "nbformat_minor": 2
}
